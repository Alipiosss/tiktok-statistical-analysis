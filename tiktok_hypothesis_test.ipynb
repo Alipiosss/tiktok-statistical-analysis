{
  "cells": [
    {
      "cell_type": "markdown",
      "metadata": {
        "id": "DtNBZFHO3M7n"
      },
      "source": [
        "# **TikTok Project**\n",
        "**The Power of Statistics**"
      ]
    },
    {
      "cell_type": "markdown",
      "metadata": {
        "id": "rgSbVJvomcVa"
      },
      "source": [
        "# 📘 Final Project: Data Analysis and Hypothesis Testing\n",
        "\n",
        "This project involves analysing a dataset and performing hypothesis testing using Python.\n",
        "\n",
        "<br/>\n",
        "\n",
        "## 🎯 Objective  \n",
        "Demonstrate your ability to structure, carry out, and interpret hypothesis tests.\n",
        "\n",
        "## 🧠 Skills Applied  \n",
        "This activity puts into practice:\n",
        "- Descriptive statistics  \n",
        "- Inferential statistics  \n",
        "- Probability distributions  \n",
        "- Hypothesis testing in Python\n",
        "\n",
        "<br/>\n",
        "\n",
        "## 📌 Project Structure\n",
        "\n",
        "The analysis is organised into three main parts:\n",
        "\n",
        "### 🔹 Part 1: Data Import and Preparation\n",
        "- Identify the necessary Python libraries for hypothesis testing.\n",
        "\n",
        "### 🔹 Part 2: Hypothesis Testing Process\n",
        "- Use descriptive statistics to better understand the data.  \n",
        "- Formulate and state the null and alternative hypotheses.\n",
        "\n",
        "### 🔹 Part 3: Communicating Insights\n",
        "- Identify key business insights based on the results of the hypothesis test.  \n",
        "- Provide actionable recommendations supported by the analysis.\n",
        "\n",
        "<br/>\n",
        "\n",
        "Once all the steps are complete, summarize your findings using the PACE Strategy framework to reflect on the business implications of your results.\n"
      ]
    },
    {
      "cell_type": "markdown",
      "metadata": {
        "id": "qwXf61KLibBj"
      },
      "source": [
        "# **Data exploration and hypothesis testing**"
      ]
    },
    {
      "cell_type": "markdown",
      "metadata": {
        "id": "N8qrn_UAzX6j"
      },
      "source": [
        "\n",
        "# **PACE stages**"
      ]
    },
    {
      "cell_type": "markdown",
      "metadata": {
        "id": "pGaoqOgZiiR_"
      },
      "source": [
        "This project follows the PACE problem-solving framework, which stands for Plan, Analyze, Construct, and Execute.  \n",
        "Each section of the notebook is aligned with one of these stages to guide the analytical process step by step."
      ]
    },
    {
      "cell_type": "markdown",
      "metadata": {
        "id": "Bb1HNu3FzX6k"
      },
      "source": [
        "\n",
        "## **PACE: Plan**\n",
        "\n"
      ]
    },
    {
      "cell_type": "markdown",
      "metadata": {
        "id": "iHhO44UenHcC"
      },
      "source": [
        "Is there a statistically significant difference in the mean number of video views between verified and unverified TikTok accounts?"
      ]
    },
    {
      "cell_type": "markdown",
      "metadata": {
        "id": "Kp3uDhhSg_qu"
      },
      "source": [
        "*Complete the following steps to perform statistical analysis of your data:*"
      ]
    },
    {
      "cell_type": "markdown",
      "metadata": {
        "id": "xgQEdIN7f1Jq"
      },
      "source": [
        "### **Part 1. Imports and Data Loading**"
      ]
    },
    {
      "cell_type": "code",
      "execution_count": null,
      "metadata": {
        "id": "1Q-GL2UrgWWG"
      },
      "outputs": [],
      "source": [
        "# Import packages for data manipulation\n",
        "import pandas as pd\n",
        "import numpy as np\n",
        "\n",
        "# Import packages for data visualization\n",
        "import matplotlib.pyplot as plt\n",
        "import seaborn as sns\n",
        "\n",
        "# Import packages for statistical analysis/hypothesis testing\n",
        "from scipy import stats\n",
        "\n"
      ]
    },
    {
      "cell_type": "code",
      "execution_count": null,
      "metadata": {
        "id": "HLhV9YACjlC4"
      },
      "outputs": [],
      "source": [
        "# Load dataset into dataframe\n",
        "data = pd.read_csv(\"tiktok_dataset.csv\")"
      ]
    },
    {
      "cell_type": "markdown",
      "metadata": {
        "id": "c8paWsdKzX6o"
      },
      "source": [
        "## **PACE: Analyze and Construct**"
      ]
    },
    {
      "cell_type": "markdown",
      "metadata": {
        "id": "AKY3ms4LsEsU"
      },
      "source": [
        "Using descriptive statistics helps me quickly grasp the key features of the dataset.  \n",
        "It allows me to examine values like the mean and median (central tendency), as well as measures of variability such as standard deviation and variance.  \n",
        "This also gives insight into the overall distribution of the data.\n",
        "\n",
        "Through this analysis, I can identify possible outliers, compare the range of views between verified and unverified accounts, and evaluate whether the data is appropriate for hypothesis testing.  \n",
        "These insights lay the groundwork for accurate interpretation in the later stages of inferential analysis."
      ]
    },
    {
      "cell_type": "markdown",
      "metadata": {
        "id": "UKhYTdVhf5B2"
      },
      "source": [
        "### **Part 2. Data exploration**\n",
        "\n",
        "Use descriptive statistics to conduct Exploratory Data Analysis (EDA).\n",
        "\n"
      ]
    },
    {
      "cell_type": "code",
      "execution_count": null,
      "metadata": {
        "id": "2rfk95MLp4a_",
        "outputId": "4f73818b-035b-4fe0-dc8d-85db9cdd35b4"
      },
      "outputs": [
        {
          "name": "stdout",
          "output_type": "stream",
          "text": [
            "   # claim_status    video_id  video_duration_sec  \\\n",
            "0  1        claim  7017666017                  59   \n",
            "1  2        claim  4014381136                  32   \n",
            "2  3        claim  9859838091                  31   \n",
            "3  4        claim  1866847991                  25   \n",
            "4  5        claim  7105231098                  19   \n",
            "\n",
            "                            video_transcription_text verified_status  \\\n",
            "0  someone shared with me that drone deliveries a...    not verified   \n",
            "1  someone shared with me that there are more mic...    not verified   \n",
            "2  someone shared with me that american industria...    not verified   \n",
            "3  someone shared with me that the metro of st. p...    not verified   \n",
            "4  someone shared with me that the number of busi...    not verified   \n",
            "\n",
            "  author_ban_status  video_view_count  video_like_count  video_share_count  \\\n",
            "0      under review          343296.0           19425.0              241.0   \n",
            "1            active          140877.0           77355.0            19034.0   \n",
            "2            active          902185.0           97690.0             2858.0   \n",
            "3            active          437506.0          239954.0            34812.0   \n",
            "4            active           56167.0           34987.0             4110.0   \n",
            "\n",
            "   video_download_count  video_comment_count  \n",
            "0                   1.0                  0.0  \n",
            "1                1161.0                684.0  \n",
            "2                 833.0                329.0  \n",
            "3                1234.0                584.0  \n",
            "4                 547.0                152.0  \n"
          ]
        }
      ],
      "source": [
        "# Display first few rows\n",
        "print(data.head())"
      ]
    },
    {
      "cell_type": "code",
      "execution_count": null,
      "metadata": {
        "id": "70vpvcv1gArp",
        "outputId": "86c5d2e0-a798-4427-f790-ea761ec7f06f"
      },
      "outputs": [
        {
          "name": "stdout",
          "output_type": "stream",
          "text": [
            "                  #      video_id  video_duration_sec  video_view_count  \\\n",
            "count  19382.000000  1.938200e+04        19382.000000      19084.000000   \n",
            "mean    9691.500000  5.627454e+09           32.421732     254708.558688   \n",
            "std     5595.245794  2.536440e+09           16.229967     322893.280814   \n",
            "min        1.000000  1.234959e+09            5.000000         20.000000   \n",
            "25%     4846.250000  3.430417e+09           18.000000       4942.500000   \n",
            "50%     9691.500000  5.618664e+09           32.000000       9954.500000   \n",
            "75%    14536.750000  7.843960e+09           47.000000     504327.000000   \n",
            "max    19382.000000  9.999873e+09           60.000000     999817.000000   \n",
            "\n",
            "       video_like_count  video_share_count  video_download_count  \\\n",
            "count      19084.000000       19084.000000          19084.000000   \n",
            "mean       84304.636030       16735.248323           1049.429627   \n",
            "std       133420.546814       32036.174350           2004.299894   \n",
            "min            0.000000           0.000000              0.000000   \n",
            "25%          810.750000         115.000000              7.000000   \n",
            "50%         3403.500000         717.000000             46.000000   \n",
            "75%       125020.000000       18222.000000           1156.250000   \n",
            "max       657830.000000      256130.000000          14994.000000   \n",
            "\n",
            "       video_comment_count  \n",
            "count         19084.000000  \n",
            "mean            349.312146  \n",
            "std             799.638865  \n",
            "min               0.000000  \n",
            "25%               1.000000  \n",
            "50%               9.000000  \n",
            "75%             292.000000  \n",
            "max            9599.000000  \n"
          ]
        }
      ],
      "source": [
        "# Generate a table of descriptive statistics about the data\n",
        "print(data.describe())"
      ]
    },
    {
      "cell_type": "code",
      "execution_count": null,
      "metadata": {
        "id": "BrunHcfa7xnT",
        "outputId": "0493e6ba-55e3-4a5b-ad52-c52d6a003b3b"
      },
      "outputs": [
        {
          "name": "stdout",
          "output_type": "stream",
          "text": [
            "#                             0\n",
            "claim_status                298\n",
            "video_id                      0\n",
            "video_duration_sec            0\n",
            "video_transcription_text    298\n",
            "verified_status               0\n",
            "author_ban_status             0\n",
            "video_view_count            298\n",
            "video_like_count            298\n",
            "video_share_count           298\n",
            "video_download_count        298\n",
            "video_comment_count         298\n",
            "dtype: int64\n"
          ]
        }
      ],
      "source": [
        "# Check for missing values\n",
        "print(data.isnull().sum())"
      ]
    },
    {
      "cell_type": "code",
      "execution_count": null,
      "metadata": {
        "id": "SHSj1Hma914I"
      },
      "outputs": [],
      "source": [
        "# Drop rows with missing values\n",
        "data = data.dropna()"
      ]
    },
    {
      "cell_type": "code",
      "execution_count": null,
      "metadata": {
        "id": "ZYUF3xap9_Fa",
        "outputId": "e7b85d4e-2612-4658-f1ae-d634af7a1da3"
      },
      "outputs": [
        {
          "name": "stdout",
          "output_type": "stream",
          "text": [
            "   # claim_status    video_id  video_duration_sec  \\\n",
            "0  1        claim  7017666017                  59   \n",
            "1  2        claim  4014381136                  32   \n",
            "2  3        claim  9859838091                  31   \n",
            "3  4        claim  1866847991                  25   \n",
            "4  5        claim  7105231098                  19   \n",
            "\n",
            "                            video_transcription_text verified_status  \\\n",
            "0  someone shared with me that drone deliveries a...    not verified   \n",
            "1  someone shared with me that there are more mic...    not verified   \n",
            "2  someone shared with me that american industria...    not verified   \n",
            "3  someone shared with me that the metro of st. p...    not verified   \n",
            "4  someone shared with me that the number of busi...    not verified   \n",
            "\n",
            "  author_ban_status  video_view_count  video_like_count  video_share_count  \\\n",
            "0      under review          343296.0           19425.0              241.0   \n",
            "1            active          140877.0           77355.0            19034.0   \n",
            "2            active          902185.0           97690.0             2858.0   \n",
            "3            active          437506.0          239954.0            34812.0   \n",
            "4            active           56167.0           34987.0             4110.0   \n",
            "\n",
            "   video_download_count  video_comment_count  \n",
            "0                   1.0                  0.0  \n",
            "1                1161.0                684.0  \n",
            "2                 833.0                329.0  \n",
            "3                1234.0                584.0  \n",
            "4                 547.0                152.0  \n"
          ]
        }
      ],
      "source": [
        "# Display first few rows after handling missing values\n",
        "print(data.head())"
      ]
    },
    {
      "cell_type": "code",
      "execution_count": null,
      "metadata": {
        "id": "2LGEWrdVXgI2",
        "outputId": "8585cc13-9199-4691-b745-c5732f0e3111"
      },
      "outputs": [
        {
          "name": "stdout",
          "output_type": "stream",
          "text": [
            "verified_status\n",
            "not verified    265663.785339\n",
            "verified         91439.164167\n",
            "Name: video_view_count, dtype: float64\n"
          ]
        }
      ],
      "source": [
        "# Compute the mean `video_view_count` for each group in `verified_status`\n",
        "mean_views_by_verified_status = data.groupby('verified_status')['video_view_count'].mean()\n",
        "\n",
        "# Display the result\n",
        "print(mean_views_by_verified_status)\n"
      ]
    },
    {
      "cell_type": "markdown",
      "metadata": {
        "id": "QpFRQDaNzX6p"
      },
      "source": [
        "### **Part 3. Hypothesis testing**\n"
      ]
    },
    {
      "cell_type": "markdown",
      "metadata": {
        "id": "ViBd7pL-tYHY"
      },
      "source": [
        "##### Null Hypothesis (H₀):\n",
        "\n",
        "There is no difference in the mean number of video views between verified and unverified TikTok accounts.\n",
        "\n",
        "##### Alternative Hypothesis (H₁):\n",
        "\n",
        "There is a difference in the mean number of video views between verified and unverified TikTok accounts.\n"
      ]
    },
    {
      "cell_type": "markdown",
      "metadata": {
        "id": "7Mn5GJ460HUS"
      },
      "source": [
        "\n",
        "\n",
        "Your goal in this step is to conduct a two-sample t-test. Recall the steps for conducting a hypothesis test:\n",
        "\n",
        "\n",
        "1.   State the null hypothesis and the alternative hypothesis\n",
        "2.   Choose a signficance level\n",
        "3.   Find the p-value\n",
        "4.   Reject or fail to reject the null hypothesis\n",
        "\n"
      ]
    },
    {
      "cell_type": "markdown",
      "metadata": {
        "id": "phXxr74vVPrs"
      },
      "source": [
        "##### Null Hypothesis (H₀):\n",
        "\n",
        "There is no difference in the mean number of video views between verified and unverified TikTok accounts.  \n",
        "(The mean views for verified accounts are equal to the mean views for unverified accounts.)\n",
        "\n",
        "##### Alternative Hypothesis (H₁):\n",
        "\n",
        "There is a difference in the mean number of video views between verified and unverified TikTok accounts.  \n",
        "(The mean views for verified accounts are not equal to the mean views for unverified accounts.)\n",
        "\n",
        "\n",
        "\n"
      ]
    },
    {
      "cell_type": "markdown",
      "metadata": {
        "id": "IVHpnfvNeTUA"
      },
      "source": [
        "You choose 5% as the significance level and proceed with a two-sample t-test."
      ]
    },
    {
      "cell_type": "code",
      "execution_count": null,
      "metadata": {
        "id": "rdlsXg7Dhbrd",
        "outputId": "ba90c2d5-2e0c-48ba-b0af-8d0e05467350"
      },
      "outputs": [
        {
          "name": "stdout",
          "output_type": "stream",
          "text": [
            "t-statistic: -25.499441780633777\n",
            "p-value: 2.6088823687177823e-120\n"
          ]
        }
      ],
      "source": [
        "# Create samples for verified and not verified accounts\n",
        "verified = data[data['verified_status'] == 'verified']['video_view_count']\n",
        "not_verified = data[data['verified_status'] == 'not verified']['video_view_count']\n",
        "\n",
        "# Conduct a two-sample t-test to compare means (Welch's t-test)\n",
        "t_statistic, p_value = stats.ttest_ind(\n",
        "    verified,\n",
        "    not_verified,\n",
        "    equal_var=False  # Do not assume equal variances\n",
        ")\n",
        "\n",
        "# Display results\n",
        "print(\"t-statistic:\", t_statistic)\n",
        "print(\"p-value:\", p_value)\n"
      ]
    },
    {
      "cell_type": "markdown",
      "metadata": {
        "id": "64Wq_VSaVsNm"
      },
      "source": [
        "Since the p-value (2.61e-120) is much smaller than the significance level of 0.05, we reject the null hypothesis.\n",
        "There is statistical significance to conclude that the mean number of video views is different between verified and unverified TikTok accounts.\n",
        "\n"
      ]
    },
    {
      "cell_type": "markdown",
      "metadata": {
        "id": "Ab4e-W3mzX6r"
      },
      "source": [
        "## **PACE: Execute**\n"
      ]
    },
    {
      "cell_type": "markdown",
      "metadata": {
        "id": "h1PRfiD3hcwE"
      },
      "source": [
        "## **Communicate insights with stakeholders**"
      ]
    },
    {
      "cell_type": "markdown",
      "metadata": {
        "id": "lL__ZEvhtQIH"
      },
      "source": [
        "The hypothesis test revealed a statistically significant difference in the mean number of video views between verified and unverified TikTok accounts.  \n",
        "This suggests that verification status is associated with differences in video visibility or engagement.\n",
        "\n",
        "Interestingly, based on the sample data, unverified accounts had a higher average number of views compared to verified accounts.  \n",
        "This insight could prompt TikTok's strategy team to further investigate factors influencing video performance beyond verification status, such as content type, posting frequency, or algorithmic promotion.\n",
        "\n",
        "It would also be important to explore potential root causes for this behavioral difference.  \n",
        "For instance, are unverified accounts more likely to post clickbait-style videos, or could there be the influence of spam bots inflating view counts?\n",
        "\n",
        "Given the skewed nature of the data and the categorical nature of `verified_status`, the next logical step would be to build a logistic regression model.  \n",
        "This model could help predict user behavior related to verification status and better understand the dynamics behind video engagement patterns.\n"
      ]
    }
  ],
  "metadata": {
    "colab": {
      "provenance": [],
      "toc_visible": true
    },
    "kernelspec": {
      "display_name": "Python 3",
      "language": "python",
      "name": "python3"
    },
    "language_info": {
      "codemirror_mode": {
        "name": "ipython",
        "version": 3
      },
      "file_extension": ".py",
      "mimetype": "text/x-python",
      "name": "python",
      "nbconvert_exporter": "python",
      "pygments_lexer": "ipython3",
      "version": "3.7.6"
    }
  },
  "nbformat": 4,
  "nbformat_minor": 0
}